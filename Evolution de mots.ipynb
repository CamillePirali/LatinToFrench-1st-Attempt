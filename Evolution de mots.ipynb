{
 "cells": [
  {
   "cell_type": "markdown",
   "metadata": {},
   "source": [
    "# Segmentation du mot et accent / Word Segmentation and Stress\n",
    "\n",
    "\n",
    "Indiquez la longueur du mot et transcrivez chaque syllabe en phonétique. Les accents toniques ne doivent pas être indiqués dans la transcription du mot : il vous sera demandé d'identifier la syllabe accentuée par après. \n",
    "\n",
    "Input the lenght of the word and transcribe each syllable phonetically. Do not transcribe the stress patterns: you will be asked which syllable carries the word stress later. "
   ]
  },
  {
   "cell_type": "code",
   "execution_count": 1,
   "metadata": {},
   "outputs": [
    {
     "name": "stdout",
     "output_type": "stream",
     "text": [
      "Combien de syllabes compte le mot ? 3\n",
      "Syllabe 1in\n",
      "Syllabe 2su\n",
      "Syllabe 3la\n",
      "['in', 'su', 'la']\n"
     ]
    }
   ],
   "source": [
    "mot = []\n",
    "longueur = int(input(\"Combien de syllabes compte le mot ? \"))\n",
    "x = 1\n",
    "while x <= longueur: \n",
    "    mot.append(input(\"Syllabe \" + str(x)))\n",
    "    x += 1\n",
    "print(mot)"
   ]
  },
  {
   "cell_type": "code",
   "execution_count": 2,
   "metadata": {},
   "outputs": [
    {
     "name": "stdout",
     "output_type": "stream",
     "text": [
      "Quelle est la syllabe accentuée ? (syllabe 1, 2, etc.) 1\n"
     ]
    }
   ],
   "source": [
    "forte = int(input(\"Quelle est la syllabe accentuée ? (syllabe 1, 2, etc.) \")) - 1\n",
    "if forte not in range(longueur):\n",
    "    print(\"Erreur : nombre de syllabes non valide.\")\n",
    "    forte = int(input(\"Quelle est la syllabe accentuée ?\")) - 1"
   ]
  },
  {
   "cell_type": "markdown",
   "metadata": {},
   "source": [
    "# Vérification des données / Information Check\n",
    "\n",
    "Vérifiez que les informations sont correctes. Si non, revenez en arrière et modifiez l'erreur. \n",
    "\n",
    "Make sure the information is correct. If not, go back and rectify the error. "
   ]
  },
  {
   "cell_type": "code",
   "execution_count": 3,
   "metadata": {},
   "outputs": [],
   "source": [
    "s = \"\"\n",
    "mot_initial = s.join(mot)"
   ]
  },
  {
   "cell_type": "code",
   "execution_count": 4,
   "metadata": {},
   "outputs": [
    {
     "name": "stdout",
     "output_type": "stream",
     "text": [
      "Votre mot est insula. Il contient 3 syllabes, avec l'accent tonique sur la syllabe 1.\n"
     ]
    }
   ],
   "source": [
    "print(\"Votre mot est \" + mot_initial + \". Il contient \" + str(longueur) + \" syllabes, avec l'accent tonique sur la syllabe \" + str(forte + 1) + \".\")"
   ]
  },
  {
   "cell_type": "markdown",
   "metadata": {},
   "source": [
    "# Changements en latin vulgaire / Changes in Vulgar Latin\n",
    "\n",
    "Changements phonétiques au premier siècle PCN. \n",
    "\n",
    "Phonetic changes that occured during the first century AD. "
   ]
  },
  {
   "cell_type": "code",
   "execution_count": 5,
   "metadata": {},
   "outputs": [],
   "source": [
    "def changements():\n",
    "    mot_final = str()\n",
    "    for i in range(len(mot)):\n",
    "        mot_final += mot[i]\n",
    "    return(mot_final)"
   ]
  },
  {
   "cell_type": "code",
   "execution_count": 6,
   "metadata": {},
   "outputs": [
    {
     "data": {
      "text/plain": [
       "'isula'"
      ]
     },
     "execution_count": 6,
     "metadata": {},
     "output_type": "execute_result"
    }
   ],
   "source": [
    "# Syncope de certaines consonnes \n",
    "\n",
    "dernier = mot[-1]\n",
    "if longueur > 1:   \n",
    "    if dernier[-1] == \"m\":\n",
    "        dernier = dernier.replace(\"m\", \"\")\n",
    "        mot[-1] = dernier\n",
    "\n",
    "for x in range(len(mot)):\n",
    "    if mot[x][-1] == \"n\":\n",
    "        if mot[x + 1][0] == \"s\":\n",
    "            mot[x] = mot[x].replace(\"n\",\"\")\n",
    "\n",
    "        elif mot[x + 1][0] == \"f\":\n",
    "            mot[x] = mot[x].replace(\"n\",\"\")\n",
    "    \n",
    "    if \"ns\" in mot[x]:\n",
    "        mot[x] = mot[x].replace(\"ns\", \"s\")\n",
    "    elif \"nf\" in mot[x]:\n",
    "        mot[x] = mot[x].replace(\"nf\", \"f\")\n",
    "    \n",
    "    if \"h\" in mot[x]:\n",
    "        mot[x] = mot[x].replace(\"h\",\"\")\n",
    "\n",
    "changements()"
   ]
  },
  {
   "cell_type": "code",
   "execution_count": 7,
   "metadata": {},
   "outputs": [
    {
     "data": {
      "text/plain": [
       "'isula'"
      ]
     },
     "execution_count": 7,
     "metadata": {},
     "output_type": "execute_result"
    }
   ],
   "source": [
    "# Fermeture des voyelles en hiatus\n",
    "for x in range(len(mot) -1):\n",
    "    if x != forte:\n",
    "        if mot[x][-1] == \"i\":\n",
    "            if mot[x + 1][0] == \"a\" or mot[x + 1][0] == \"u\":\n",
    "                mot[x] = mot[x].replace(\"i\",\"j\")\n",
    "                mot[x] += mot[x + 1]\n",
    "                del mot[x + 1]\n",
    "            \n",
    "        elif mot[x][-1] == \"e\":\n",
    "            if mot[x + 1][0] == \"a\" or mot[x + 1][0] == \"u\":\n",
    "                mot[x] = mot[x].replace(\"e\",\"j\")\n",
    "                mot[x] += mot[x + 1]\n",
    "                del mot[x + 1]\n",
    "        \n",
    "        elif mot[x][-1] == \"u\":\n",
    "            if mot[x + 1][0] == \"a\":\n",
    "                mot[x] = mot[x].replace(\"u\",\"w\")\n",
    "                mot[x] += mot[x + 1]\n",
    "                del mot[x + 1]\n",
    "        \n",
    "        elif mot[x][-1] == \"o\":\n",
    "            if mot[x + 1][0] == \"a\":\n",
    "                mot[x] = mot[x].replace(\"o\",\"w\")\n",
    "                mot[x] += mot[x + 1]\n",
    "                del mot[x + 1]\n",
    "\n",
    "for x in range(len(mot) -2):\n",
    "    if mot[x][-1] == mot[x + 1][0]:\n",
    "        mot[x + 1] = mot[x + 1].replace(mot[x + 1][0],\"\")\n",
    "        mot[x] += mot[x + 1]\n",
    "        del mot[x + 1]\n",
    "    \n",
    "for x in range(len(mot) -2):\n",
    "    if mot[x + 1][0] == \"r\":\n",
    "        if mot[x][-1] == mot[x + 1][1]:\n",
    "            mot[x] = mot[x].replace(mot[x][-1], \"\")\n",
    "            mot[x] += mot[x + 1]\n",
    "            del mot[x + 1]\n",
    "\n",
    "changements()"
   ]
  },
  {
   "cell_type": "code",
   "execution_count": 8,
   "metadata": {},
   "outputs": [
    {
     "data": {
      "text/plain": [
       "'isla'"
      ]
     },
     "execution_count": 8,
     "metadata": {},
     "output_type": "execute_result"
    }
   ],
   "source": [
    "# Amuïssements vocaliques : chute des pénultièmes atones\n",
    "\n",
    "if len(mot) > 2:\n",
    "    if mot[forte] != mot[-2]:\n",
    "        mot[-2] = mot[-2].replace(mot[-2][1], \"\")    \n",
    "        mot[-3] += mot[-2]\n",
    "        del mot[-2]\n",
    "\n",
    "# Amuïssements vocaliques : chute des prétoniques internes\n",
    "\n",
    "if len(mot) > 2 and len(mot) < 5:\n",
    "    PTI = forte - 1\n",
    "    if len(mot[PTI]) == 2:\n",
    "        if mot[PTI][1] != \"a\":\n",
    "            mot[PTI] = mot[PTI].replace(mot[PTI][1], \"\")\n",
    "            mot [PTI - 1] += mot[PTI]\n",
    "            del mot[PTI]\n",
    "\n",
    "changements()"
   ]
  },
  {
   "cell_type": "code",
   "execution_count": 9,
   "metadata": {},
   "outputs": [
    {
     "data": {
      "text/plain": [
       "'isla'"
      ]
     },
     "execution_count": 9,
     "metadata": {},
     "output_type": "execute_result"
    }
   ],
   "source": [
    "# Monophtongaison des diphtongues\n",
    "\n",
    "for x in range(len(mot) - 1):\n",
    "    if mot[x][-2::] == \"oe\":\n",
    "        mot[x] = mot[x].replace(\"oe\", \"e\")\n",
    "    elif mot[x][-2::] == \"ae\":\n",
    "        mot[x] = mot[x].replace(\"ae\", \"ɛ\")\n",
    "\n",
    "changements()"
   ]
  },
  {
   "cell_type": "code",
   "execution_count": 10,
   "metadata": {},
   "outputs": [
    {
     "data": {
      "text/plain": [
       "'isla'"
      ]
     },
     "execution_count": 10,
     "metadata": {},
     "output_type": "execute_result"
    }
   ],
   "source": [
    "# Prothèse vocalique\n",
    "\n",
    "if mot[0][0:2] == \"sk\" or mot[0][0:2] == \"st\":\n",
    "    mot.insert(0,\"i\")\n",
    "\n",
    "changements()"
   ]
  },
  {
   "cell_type": "code",
   "execution_count": 11,
   "metadata": {},
   "outputs": [
    {
     "name": "stdout",
     "output_type": "stream",
     "text": [
      "Mot d'origine :                insula         \n",
      "Evolution au 1er siècle :      isla           \n"
     ]
    }
   ],
   "source": [
    "# synthèse de l'évolution du mot\n",
    "\n",
    "print(\"{:<30} {:<15}\".format('Mot d\\'origine :',mot_initial))\n",
    "print(\"{:<30} {:<15}\".format(\"Evolution au 1er siècle :\",changements()))"
   ]
  }
 ],
 "metadata": {
  "kernelspec": {
   "display_name": "Python 3",
   "language": "python",
   "name": "python3"
  },
  "language_info": {
   "codemirror_mode": {
    "name": "ipython",
    "version": 3
   },
   "file_extension": ".py",
   "mimetype": "text/x-python",
   "name": "python",
   "nbconvert_exporter": "python",
   "pygments_lexer": "ipython3",
   "version": "3.8.3"
  }
 },
 "nbformat": 4,
 "nbformat_minor": 4
}
